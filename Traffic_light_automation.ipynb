{
  "nbformat": 4,
  "nbformat_minor": 0,
  "metadata": {
    "colab": {
      "provenance": [],
      "gpuType": "T4",
      "authorship_tag": "ABX9TyPIQyXMUUeABijVDjw9BsF0",
      "include_colab_link": true
    },
    "kernelspec": {
      "name": "python3",
      "display_name": "Python 3"
    },
    "language_info": {
      "name": "python"
    },
    "accelerator": "GPU"
  },
  "cells": [
    {
      "cell_type": "markdown",
      "metadata": {
        "id": "view-in-github",
        "colab_type": "text"
      },
      "source": [
        "<a href=\"https://colab.research.google.com/github/anirxudh/Intelligent-traffic-system-using-fuzzy/blob/main/Traffic_light_automation.ipynb\" target=\"_parent\"><img src=\"https://colab.research.google.com/assets/colab-badge.svg\" alt=\"Open In Colab\"/></a>"
      ]
    },
    {
      "cell_type": "code",
      "execution_count": 17,
      "metadata": {
        "id": "aJfNrUAoFTxO"
      },
      "outputs": [],
      "source": [
        "import sys\n",
        "from typing import List, Tuple, Dict\n",
        "\n",
        "# Constants for fuzzy sets\n",
        "WAITING_TRAFFIC = ['minimal', 'light', 'average', 'heavy', 'standstill']\n",
        "INCOMING_TRAFFIC = ['minimal', 'light', 'average', 'heavy', 'excess']\n",
        "DURATION = ['short', 'medium', 'long']\n",
        "\n",
        "# Traffic light timing constants (in seconds)\n",
        "LIGHT_TIMING = {\n",
        "    'short': 50,\n",
        "    'medium': 90,\n",
        "    'long': 125,\n",
        "    'default_min': 45,\n",
        "    'default_max': 150\n",
        "}\n",
        "\n",
        "# Fuzzy rules for traffic control\n",
        "FUZZY_RULES = [\n",
        "    [['minimal', 'minimal'], 'short'],\n",
        "    [['minimal', 'light'], 'short'],\n",
        "    [['minimal', 'average'], 'medium'],\n",
        "    [['minimal', 'heavy'], 'long'],\n",
        "    [['minimal', 'excess'], 'long'],\n",
        "    [['light', 'minimal'], 'short'],\n",
        "    [['light', 'light'], 'short'],\n",
        "    [['light', 'average'], 'medium'],\n",
        "    [['light', 'heavy'], 'medium'],\n",
        "    [['light', 'excess'], 'long'],\n",
        "    [['average', 'minimal'], 'short'],\n",
        "    [['average', 'light'], 'medium'],\n",
        "    [['average', 'average'], 'medium'],\n",
        "    [['average', 'heavy'], 'long'],\n",
        "    [['average', 'excess'], 'long'],\n",
        "    [['heavy', 'minimal'], 'medium'],\n",
        "    [['heavy', 'light'], 'medium'],\n",
        "    [['heavy', 'average'], 'long'],\n",
        "    [['heavy', 'heavy'], 'long'],\n",
        "    [['heavy', 'excess'], 'long'],\n",
        "    [['standstill', 'minimal'], 'medium'],\n",
        "    [['standstill', 'light'], 'long'],\n",
        "    [['standstill', 'average'], 'long'],\n",
        "    [['standstill', 'heavy'], 'long'],\n",
        "    [['standstill', 'excess'], 'long']\n",
        "]"
      ]
    },
    {
      "cell_type": "code",
      "source": [
        "def calculate_traffic_state(cars: int, is_waiting: bool) -> List[Tuple[str, float]]:\n",
        "    \"\"\"\n",
        "    Calculate the fuzzy traffic state based on number of cars.\n",
        "\n",
        "    Args:\n",
        "        cars: Number of cars\n",
        "        is_waiting: True if calculating for waiting traffic, False for incoming\n",
        "\n",
        "    Returns:\n",
        "        List of tuples containing (traffic_state, membership_value)\n",
        "    \"\"\"\n",
        "    traffic_set = WAITING_TRAFFIC if is_waiting else INCOMING_TRAFFIC\n",
        "\n",
        "    # Determine which traffic states apply\n",
        "    states = []\n",
        "    if 0 <= cars <= 15:\n",
        "        states.append(traffic_set[0])  # minimal\n",
        "    if 10 <= cars <= 25:\n",
        "        states.append(traffic_set[1])  # light\n",
        "    if 20 <= cars <= 35:\n",
        "        states.append(traffic_set[2])  # average\n",
        "    if 30 <= cars <= 45:\n",
        "        states.append(traffic_set[3])  # heavy\n",
        "    if cars >= 40:\n",
        "        states.append(traffic_set[4])  # standstill/excess\n",
        "\n",
        "    # Calculate membership values\n",
        "    if len(states) <= 1:\n",
        "        return [(states[0], 1.0)]\n",
        "\n",
        "    # Handle overlapping states\n",
        "    if cars <= 15:\n",
        "        return [\n",
        "            (states[0], -(cars - 15) / 5),\n",
        "            (states[1], -(cars - 25) / 5)\n",
        "        ]\n",
        "    elif cars <= 25:\n",
        "        return [\n",
        "            (states[0], -(cars - 25) / 5),\n",
        "            (states[1], (cars - 20) / 5)\n",
        "        ]\n",
        "    elif cars <= 35:\n",
        "        return [\n",
        "            (states[0], -(cars - 35) / 5),\n",
        "            (states[1], (cars - 30) / 5)\n",
        "        ]\n",
        "    else:\n",
        "        return [\n",
        "            (states[0], -(cars - 45) / 5),\n",
        "            (states[1], (cars - 40) / 5)\n",
        "        ]"
      ],
      "metadata": {
        "id": "Krs9D79B_v5p"
      },
      "execution_count": 18,
      "outputs": []
    },
    {
      "cell_type": "code",
      "source": [
        "def apply_fuzzy_rules(waiting: List[Tuple[str, float]],\n",
        "                     incoming: List[Tuple[str, float]]) -> List[Tuple[str, float]]:\n",
        "    \"\"\"Apply fuzzy rules to determine traffic light duration.\"\"\"\n",
        "    durations = []\n",
        "    for w_state, w_value in waiting:\n",
        "        for i_state, i_value in incoming:\n",
        "            for rule in FUZZY_RULES:\n",
        "                if rule[0][0] == w_state and rule[0][1] == i_state:\n",
        "                    durations.append((rule[1], min(w_value, i_value)))\n",
        "    return durations"
      ],
      "metadata": {
        "id": "ppuagI-F_2Po"
      },
      "execution_count": 19,
      "outputs": []
    },
    {
      "cell_type": "code",
      "source": [
        "def infer(waiting, oncoming, rules):\n",
        "    results = []\n",
        "    for rule in rules:\n",
        "        waitingMatch = [item for item in waiting if item[0] == rule[0][0]]\n",
        "        oncomingMatch = [item for item in oncoming if item[0] == rule[0][1]]\n",
        "\n",
        "        if waitingMatch and oncomingMatch:\n",
        "            results.append([[waitingMatch[0], oncomingMatch[0]], rule[1]])\n",
        "\n",
        "    return results"
      ],
      "metadata": {
        "id": "quoq8dOo_6TU"
      },
      "execution_count": 12,
      "outputs": []
    },
    {
      "cell_type": "code",
      "source": [
        "def calculate_duration(duration_states: List[Tuple[str, float]]) -> int:\n",
        "    \"\"\"Convert fuzzy duration states to actual seconds.\"\"\"\n",
        "    if not duration_states:\n",
        "        return LIGHT_TIMING['default_min']\n",
        "\n",
        "    # Calculate weighted average of durations\n",
        "    total_weight = sum(weight for _, weight in duration_states)\n",
        "    if total_weight == 0:\n",
        "        return LIGHT_TIMING['default_min']\n",
        "\n",
        "    weighted_sum = sum(\n",
        "        LIGHT_TIMING[state] * weight\n",
        "        for state, weight in duration_states\n",
        "    )\n",
        "\n",
        "    duration = weighted_sum / total_weight\n",
        "\n",
        "    # Ensure duration stays within reasonable bounds\n",
        "    return min(max(int(duration), LIGHT_TIMING['default_min']),\n",
        "              LIGHT_TIMING['default_max'])"
      ],
      "metadata": {
        "id": "NHU0GwyK_99r"
      },
      "execution_count": 20,
      "outputs": []
    },
    {
      "cell_type": "code",
      "source": [
        "def process_traffic(waiting_cars: int, incoming_cars: int) -> int:\n",
        "    \"\"\"\n",
        "    Process traffic situation and determine green light duration.\n",
        "\n",
        "    Args:\n",
        "        waiting_cars: Number of cars waiting at the light\n",
        "        incoming_cars: Number of cars approaching intersection\n",
        "\n",
        "    Returns:\n",
        "        Recommended green light duration in seconds\n",
        "    \"\"\"\n",
        "    # Get fuzzy states for both waiting and incoming traffic\n",
        "    waiting_state = calculate_traffic_state(waiting_cars, True)\n",
        "    incoming_state = calculate_traffic_state(incoming_cars, False)\n",
        "\n",
        "    # Apply fuzzy rules and calculate duration\n",
        "    duration_states = apply_fuzzy_rules(waiting_state, incoming_state)\n",
        "    return calculate_duration(duration_states)"
      ],
      "metadata": {
        "id": "BDFo8uM7ADxJ"
      },
      "execution_count": 21,
      "outputs": []
    },
    {
      "cell_type": "code",
      "source": [
        "def main():\n",
        "    \"\"\"Main function to demonstrate the traffic light system.\"\"\"\n",
        "    # Example traffic scenario\n",
        "    waiting_cars = 10\n",
        "    incoming_cars = 33\n",
        "\n",
        "    print(\"\\n=== Intelligent Traffic Light System ===\\n\")\n",
        "    print(f\"Current Traffic Situation:\")\n",
        "    print(f\"- Cars waiting at light: {waiting_cars}\")\n",
        "    print(f\"- Cars approaching intersection: {incoming_cars}\\n\")\n",
        "\n",
        "    # Calculate waiting and incoming traffic states\n",
        "    waiting_state = calculate_traffic_state(waiting_cars, True)\n",
        "    incoming_state = calculate_traffic_state(incoming_cars, False)\n",
        "\n",
        "    print(f\"Analysis Results:\")\n",
        "    print(f\"- Waiting traffic state: {waiting_state}\")\n",
        "    print(f\"- Incoming traffic state: {incoming_state}\")\n",
        "\n",
        "    # Calculate final duration\n",
        "    duration = process_traffic(waiting_cars, incoming_cars)\n",
        "\n",
        "    print(f\"\\nRecommended Action:\")\n",
        "    print(f\"→ Set traffic light to GREEN for {duration} seconds\")"
      ],
      "metadata": {
        "id": "BParYAtN_TUN"
      },
      "execution_count": 22,
      "outputs": []
    },
    {
      "cell_type": "code",
      "source": [
        "if __name__ == '__main__':\n",
        "    main()"
      ],
      "metadata": {
        "colab": {
          "base_uri": "https://localhost:8080/"
        },
        "id": "slMO8MB1ANU6",
        "outputId": "9ce67a9d-c3a1-4660-8bc8-0a4563695331"
      },
      "execution_count": 23,
      "outputs": [
        {
          "output_type": "stream",
          "name": "stdout",
          "text": [
            "\n",
            "=== Intelligent Traffic Light System ===\n",
            "\n",
            "Current Traffic Situation:\n",
            "- Cars waiting at light: 10\n",
            "- Cars approaching intersection: 33\n",
            "\n",
            "Analysis Results:\n",
            "- Waiting traffic state: [('minimal', 1.0), ('light', 3.0)]\n",
            "- Incoming traffic state: [('average', 0.4), ('heavy', 0.6)]\n",
            "\n",
            "Recommended Action:\n",
            "→ Set traffic light to GREEN for 100 seconds\n"
          ]
        }
      ]
    },
    {
      "cell_type": "code",
      "source": [],
      "metadata": {
        "id": "zhXxKhtAAOk6"
      },
      "execution_count": null,
      "outputs": []
    }
  ]
}